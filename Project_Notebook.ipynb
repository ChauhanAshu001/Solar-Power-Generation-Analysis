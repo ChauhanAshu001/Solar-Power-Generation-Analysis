{
 "cells": [
  {
   "cell_type": "markdown",
   "id": "fe3d9553",
   "metadata": {},
   "source": [
    "# Solar Power Generation analysis\n",
    "\n",
    "## Team Members\n",
    "### 1.Ashish Chauhan\n",
    "### 2.Akash Kumar Gaud\n",
    "### 3.Anish Chauhan\n",
    "### 4.Ashish Gautam\n",
    "### 5.Aryan Shrikant Jadhao"
   ]
  },
  {
   "cell_type": "markdown",
   "id": "421c5d02",
   "metadata": {},
   "source": [
    "# Step 1. Data importing and preprocessing"
   ]
  },
  {
   "cell_type": "code",
   "execution_count": 20,
   "id": "970a703d",
   "metadata": {},
   "outputs": [],
   "source": [
    "import pandas as pd\n",
    "#import seaborn as sns\n",
    "import matplotlib.pyplot as plt\n",
    "import numpy as np"
   ]
  },
  {
   "cell_type": "code",
   "execution_count": 15,
   "id": "d14beb32",
   "metadata": {},
   "outputs": [
    {
     "data": {
      "text/html": [
       "<div>\n",
       "<style scoped>\n",
       "    .dataframe tbody tr th:only-of-type {\n",
       "        vertical-align: middle;\n",
       "    }\n",
       "\n",
       "    .dataframe tbody tr th {\n",
       "        vertical-align: top;\n",
       "    }\n",
       "\n",
       "    .dataframe thead th {\n",
       "        text-align: right;\n",
       "    }\n",
       "</style>\n",
       "<table border=\"1\" class=\"dataframe\">\n",
       "  <thead>\n",
       "    <tr style=\"text-align: right;\">\n",
       "      <th></th>\n",
       "      <th>Day of Year</th>\n",
       "      <th>Year</th>\n",
       "      <th>Month</th>\n",
       "      <th>Day</th>\n",
       "      <th>First Hour of Period</th>\n",
       "      <th>Is Daylight</th>\n",
       "      <th>Distance to Solar Noon</th>\n",
       "      <th>Average Temperature (Day)</th>\n",
       "      <th>Average Wind Direction (Day)</th>\n",
       "      <th>Average Wind Speed (Day)</th>\n",
       "      <th>Sky Cover</th>\n",
       "      <th>Visibility</th>\n",
       "      <th>Relative Humidity</th>\n",
       "      <th>Average Wind Speed (Period)</th>\n",
       "      <th>Average Barometric Pressure (Period)</th>\n",
       "      <th>Power Generated</th>\n",
       "    </tr>\n",
       "  </thead>\n",
       "  <tbody>\n",
       "    <tr>\n",
       "      <th>0</th>\n",
       "      <td>245</td>\n",
       "      <td>2008</td>\n",
       "      <td>9</td>\n",
       "      <td>1</td>\n",
       "      <td>1</td>\n",
       "      <td>False</td>\n",
       "      <td>0.859897</td>\n",
       "      <td>69</td>\n",
       "      <td>28</td>\n",
       "      <td>7.5</td>\n",
       "      <td>0</td>\n",
       "      <td>10.0</td>\n",
       "      <td>75</td>\n",
       "      <td>8.0</td>\n",
       "      <td>29.82</td>\n",
       "      <td>0</td>\n",
       "    </tr>\n",
       "    <tr>\n",
       "      <th>1</th>\n",
       "      <td>245</td>\n",
       "      <td>2008</td>\n",
       "      <td>9</td>\n",
       "      <td>1</td>\n",
       "      <td>4</td>\n",
       "      <td>False</td>\n",
       "      <td>0.628535</td>\n",
       "      <td>69</td>\n",
       "      <td>28</td>\n",
       "      <td>7.5</td>\n",
       "      <td>0</td>\n",
       "      <td>10.0</td>\n",
       "      <td>77</td>\n",
       "      <td>5.0</td>\n",
       "      <td>29.85</td>\n",
       "      <td>0</td>\n",
       "    </tr>\n",
       "    <tr>\n",
       "      <th>2</th>\n",
       "      <td>245</td>\n",
       "      <td>2008</td>\n",
       "      <td>9</td>\n",
       "      <td>1</td>\n",
       "      <td>7</td>\n",
       "      <td>True</td>\n",
       "      <td>0.397172</td>\n",
       "      <td>69</td>\n",
       "      <td>28</td>\n",
       "      <td>7.5</td>\n",
       "      <td>0</td>\n",
       "      <td>10.0</td>\n",
       "      <td>70</td>\n",
       "      <td>0.0</td>\n",
       "      <td>29.89</td>\n",
       "      <td>5418</td>\n",
       "    </tr>\n",
       "    <tr>\n",
       "      <th>3</th>\n",
       "      <td>245</td>\n",
       "      <td>2008</td>\n",
       "      <td>9</td>\n",
       "      <td>1</td>\n",
       "      <td>10</td>\n",
       "      <td>True</td>\n",
       "      <td>0.165810</td>\n",
       "      <td>69</td>\n",
       "      <td>28</td>\n",
       "      <td>7.5</td>\n",
       "      <td>0</td>\n",
       "      <td>10.0</td>\n",
       "      <td>33</td>\n",
       "      <td>0.0</td>\n",
       "      <td>29.91</td>\n",
       "      <td>25477</td>\n",
       "    </tr>\n",
       "    <tr>\n",
       "      <th>4</th>\n",
       "      <td>245</td>\n",
       "      <td>2008</td>\n",
       "      <td>9</td>\n",
       "      <td>1</td>\n",
       "      <td>13</td>\n",
       "      <td>True</td>\n",
       "      <td>0.065553</td>\n",
       "      <td>69</td>\n",
       "      <td>28</td>\n",
       "      <td>7.5</td>\n",
       "      <td>0</td>\n",
       "      <td>10.0</td>\n",
       "      <td>21</td>\n",
       "      <td>3.0</td>\n",
       "      <td>29.89</td>\n",
       "      <td>30069</td>\n",
       "    </tr>\n",
       "  </tbody>\n",
       "</table>\n",
       "</div>"
      ],
      "text/plain": [
       "   Day of Year  Year  Month  Day  First Hour of Period  Is Daylight  \\\n",
       "0          245  2008      9    1                     1        False   \n",
       "1          245  2008      9    1                     4        False   \n",
       "2          245  2008      9    1                     7         True   \n",
       "3          245  2008      9    1                    10         True   \n",
       "4          245  2008      9    1                    13         True   \n",
       "\n",
       "   Distance to Solar Noon  Average Temperature (Day)  \\\n",
       "0                0.859897                         69   \n",
       "1                0.628535                         69   \n",
       "2                0.397172                         69   \n",
       "3                0.165810                         69   \n",
       "4                0.065553                         69   \n",
       "\n",
       "   Average Wind Direction (Day)  Average Wind Speed (Day)  Sky Cover  \\\n",
       "0                            28                       7.5          0   \n",
       "1                            28                       7.5          0   \n",
       "2                            28                       7.5          0   \n",
       "3                            28                       7.5          0   \n",
       "4                            28                       7.5          0   \n",
       "\n",
       "   Visibility  Relative Humidity  Average Wind Speed (Period)  \\\n",
       "0        10.0                 75                          8.0   \n",
       "1        10.0                 77                          5.0   \n",
       "2        10.0                 70                          0.0   \n",
       "3        10.0                 33                          0.0   \n",
       "4        10.0                 21                          3.0   \n",
       "\n",
       "   Average Barometric Pressure (Period)  Power Generated  \n",
       "0                                 29.82                0  \n",
       "1                                 29.85                0  \n",
       "2                                 29.89             5418  \n",
       "3                                 29.91            25477  \n",
       "4                                 29.89            30069  "
      ]
     },
     "execution_count": 15,
     "metadata": {},
     "output_type": "execute_result"
    }
   ],
   "source": [
    "#imported the csv file\n",
    "\n",
    "df=pd.read_csv(\"data/powerPlantDataBerkeley.csv\")\n",
    "df.head()"
   ]
  },
  {
   "cell_type": "code",
   "execution_count": 16,
   "id": "9c48b474",
   "metadata": {},
   "outputs": [
    {
     "data": {
      "text/plain": [
       "Day of Year                             0\n",
       "Year                                    0\n",
       "Month                                   0\n",
       "Day                                     0\n",
       "First Hour of Period                    0\n",
       "Is Daylight                             0\n",
       "Distance to Solar Noon                  0\n",
       "Average Temperature (Day)               0\n",
       "Average Wind Direction (Day)            0\n",
       "Average Wind Speed (Day)                0\n",
       "Sky Cover                               0\n",
       "Visibility                              0\n",
       "Relative Humidity                       0\n",
       "Average Wind Speed (Period)             1\n",
       "Average Barometric Pressure (Period)    0\n",
       "Power Generated                         0\n",
       "dtype: int64"
      ]
     },
     "execution_count": 16,
     "metadata": {},
     "output_type": "execute_result"
    }
   ],
   "source": [
    "'''Checking if there are any missing values in dataframe'''\n",
    "df.isna().sum()"
   ]
  },
  {
   "cell_type": "code",
   "execution_count": 19,
   "id": "aba8ca4c",
   "metadata": {},
   "outputs": [
    {
     "data": {
      "text/plain": [
       "Day of Year                             0\n",
       "Year                                    0\n",
       "Month                                   0\n",
       "Day                                     0\n",
       "First Hour of Period                    0\n",
       "Is Daylight                             0\n",
       "Distance to Solar Noon                  0\n",
       "Average Temperature (Day)               0\n",
       "Average Wind Direction (Day)            0\n",
       "Average Wind Speed (Day)                0\n",
       "Sky Cover                               0\n",
       "Visibility                              0\n",
       "Relative Humidity                       0\n",
       "Average Wind Speed (Period)             0\n",
       "Average Barometric Pressure (Period)    0\n",
       "Power Generated                         0\n",
       "dtype: int64"
      ]
     },
     "execution_count": 19,
     "metadata": {},
     "output_type": "execute_result"
    }
   ],
   "source": [
    "'''Filling average wind column's missing value with mean of the column '''\n",
    "df[\"Average Wind Speed (Period)\"].fillna(df[\"Average Wind Speed (Period)\"].mean(),inplace=True)\n",
    "\n",
    "df.isna().sum()"
   ]
  },
  {
   "cell_type": "code",
   "execution_count": 24,
   "id": "53ff1b6c",
   "metadata": {},
   "outputs": [
    {
     "name": "stdout",
     "output_type": "stream",
     "text": [
      "here are your features\n",
      "   Day of Year  Year  Month  Day  First Hour of Period  Is Daylight  \\\n",
      "0          245  2008      9    1                     1        False   \n",
      "1          245  2008      9    1                     4        False   \n",
      "2          245  2008      9    1                     7         True   \n",
      "3          245  2008      9    1                    10         True   \n",
      "4          245  2008      9    1                    13         True   \n",
      "\n",
      "   Distance to Solar Noon  Average Temperature (Day)  \\\n",
      "0                0.859897                         69   \n",
      "1                0.628535                         69   \n",
      "2                0.397172                         69   \n",
      "3                0.165810                         69   \n",
      "4                0.065553                         69   \n",
      "\n",
      "   Average Wind Direction (Day)  Average Wind Speed (Day)  Sky Cover  \\\n",
      "0                            28                       7.5          0   \n",
      "1                            28                       7.5          0   \n",
      "2                            28                       7.5          0   \n",
      "3                            28                       7.5          0   \n",
      "4                            28                       7.5          0   \n",
      "\n",
      "   Visibility  Relative Humidity  Average Wind Speed (Period)  \\\n",
      "0        10.0                 75                          8.0   \n",
      "1        10.0                 77                          5.0   \n",
      "2        10.0                 70                          0.0   \n",
      "3        10.0                 33                          0.0   \n",
      "4        10.0                 21                          3.0   \n",
      "\n",
      "   Average Barometric Pressure (Period)  \n",
      "0                                 29.82  \n",
      "1                                 29.85  \n",
      "2                                 29.89  \n",
      "3                                 29.91  \n",
      "4                                 29.89  \n",
      "\n",
      "\n",
      "here's your target variable\n",
      "0        0\n",
      "1        0\n",
      "2     5418\n",
      "3    25477\n",
      "4    30069\n",
      "Name: Power Generated, dtype: int64\n"
     ]
    }
   ],
   "source": [
    "'''Dividing data into features(X) and target variable(y)'''\n",
    "np.random.seed(42)\n",
    "X=df.drop(\"Power Generated\",axis=1)\n",
    "y=df[\"Power Generated\"]\n",
    "\n",
    "print(\"here are your features\")\n",
    "print(X.head())\n",
    "\n",
    "print(\"\\n\\nhere's your target variable\")\n",
    "print(y.head())"
   ]
  },
  {
   "cell_type": "code",
   "execution_count": 25,
   "id": "ecde1ea7",
   "metadata": {},
   "outputs": [],
   "source": [
    "'''Splitting data into train and test split of 8:2'''\n",
    "from sklearn.model_selection import train_test_split\n",
    "X_train,X_test,y_train,y_test=train_test_split(X,y,test_size=0.2,random_state=42)"
   ]
  },
  {
   "cell_type": "code",
   "execution_count": 29,
   "id": "58b724ac",
   "metadata": {},
   "outputs": [
    {
     "name": "stdout",
     "output_type": "stream",
     "text": [
      "Accuracy of model using Linear regression is 66.13875826340248%\n"
     ]
    }
   ],
   "source": [
    "'''Applying Linear Regression model to it'''\n",
    "from sklearn.linear_model import LinearRegression\n",
    "\n",
    "model = LinearRegression()\n",
    "model.fit(X_train, y_train)\n",
    "print(f\"Accuracy of model using Linear regression is {model.score(X_test,y_test)*100}%\")\n",
    "\n"
   ]
  },
  {
   "cell_type": "code",
   "execution_count": 33,
   "id": "636dc602",
   "metadata": {},
   "outputs": [
    {
     "name": "stdout",
     "output_type": "stream",
     "text": [
      "Accuracy of model using Random forest regressor is 90.52941411976556%\n"
     ]
    }
   ],
   "source": [
    "'''Checking the accuracy on Random Forest Regressor'''\n",
    "from sklearn.ensemble import RandomForestRegressor\n",
    "\n",
    "model2 = RandomForestRegressor(n_estimators=100, random_state=42)\n",
    "model2.fit(X_train, y_train)\n",
    "print(f\"Accuracy of model using Random forest regressor is {model2.score(X_test,y_test)*100}%\")\n"
   ]
  },
  {
   "cell_type": "code",
   "execution_count": null,
   "id": "15467a66",
   "metadata": {},
   "outputs": [],
   "source": []
  }
 ],
 "metadata": {
  "kernelspec": {
   "display_name": "Python 3 (ipykernel)",
   "language": "python",
   "name": "python3"
  },
  "language_info": {
   "codemirror_mode": {
    "name": "ipython",
    "version": 3
   },
   "file_extension": ".py",
   "mimetype": "text/x-python",
   "name": "python",
   "nbconvert_exporter": "python",
   "pygments_lexer": "ipython3",
   "version": "3.7.16"
  }
 },
 "nbformat": 4,
 "nbformat_minor": 5
}
