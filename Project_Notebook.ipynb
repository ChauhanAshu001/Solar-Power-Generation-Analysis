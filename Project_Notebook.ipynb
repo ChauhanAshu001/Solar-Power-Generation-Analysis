{
 "cells": [
  {
   "cell_type": "markdown",
   "id": "fe3d9553",
   "metadata": {},
   "source": [
    "# Solar Power Generation analysis\n",
    "\n",
    "## Team Members\n",
    "### 1.Ashish Chauhan\n",
    "### 2.Akash Kumar Gaud\n",
    "### 3.Anish Chauhan\n",
    "### 4.Ashish Gautam\n",
    "### 5.Aryan Shrikant Jadhao"
   ]
  },
  {
   "cell_type": "markdown",
   "id": "421c5d02",
   "metadata": {},
   "source": [
    "# Step 1. Data importing and preprocessing"
   ]
  },
  {
   "cell_type": "code",
   "execution_count": 37,
   "id": "970a703d",
   "metadata": {},
   "outputs": [],
   "source": [
    "import pandas as pd\n",
    "#import seaborn as sns\n",
    "import matplotlib.pyplot as plt\n",
    "import numpy as np\n"
   ]
  },
  {
   "cell_type": "code",
   "execution_count": 11,
   "id": "d14beb32",
   "metadata": {},
   "outputs": [
    {
     "data": {
      "text/html": [
       "<div>\n",
       "<style scoped>\n",
       "    .dataframe tbody tr th:only-of-type {\n",
       "        vertical-align: middle;\n",
       "    }\n",
       "\n",
       "    .dataframe tbody tr th {\n",
       "        vertical-align: top;\n",
       "    }\n",
       "\n",
       "    .dataframe thead th {\n",
       "        text-align: right;\n",
       "    }\n",
       "</style>\n",
       "<table border=\"1\" class=\"dataframe\">\n",
       "  <thead>\n",
       "    <tr style=\"text-align: right;\">\n",
       "      <th></th>\n",
       "      <th>Day of Year</th>\n",
       "      <th>Year</th>\n",
       "      <th>Month</th>\n",
       "      <th>Day</th>\n",
       "      <th>First Hour of Period</th>\n",
       "      <th>Is Daylight</th>\n",
       "      <th>Distance to Solar Noon</th>\n",
       "      <th>Average Temperature (Day)</th>\n",
       "      <th>Average Wind Direction (Day)</th>\n",
       "      <th>Average Wind Speed (Day)</th>\n",
       "      <th>Sky Cover</th>\n",
       "      <th>Visibility</th>\n",
       "      <th>Relative Humidity</th>\n",
       "      <th>Average Wind Speed (Period)</th>\n",
       "      <th>Average Barometric Pressure (Period)</th>\n",
       "      <th>Power Generated</th>\n",
       "    </tr>\n",
       "  </thead>\n",
       "  <tbody>\n",
       "    <tr>\n",
       "      <th>0</th>\n",
       "      <td>245</td>\n",
       "      <td>2008</td>\n",
       "      <td>9</td>\n",
       "      <td>1</td>\n",
       "      <td>1</td>\n",
       "      <td>False</td>\n",
       "      <td>0.859897</td>\n",
       "      <td>69</td>\n",
       "      <td>28</td>\n",
       "      <td>7.5</td>\n",
       "      <td>0</td>\n",
       "      <td>10.0</td>\n",
       "      <td>75</td>\n",
       "      <td>8.0</td>\n",
       "      <td>29.82</td>\n",
       "      <td>0</td>\n",
       "    </tr>\n",
       "    <tr>\n",
       "      <th>1</th>\n",
       "      <td>245</td>\n",
       "      <td>2008</td>\n",
       "      <td>9</td>\n",
       "      <td>1</td>\n",
       "      <td>4</td>\n",
       "      <td>False</td>\n",
       "      <td>0.628535</td>\n",
       "      <td>69</td>\n",
       "      <td>28</td>\n",
       "      <td>7.5</td>\n",
       "      <td>0</td>\n",
       "      <td>10.0</td>\n",
       "      <td>77</td>\n",
       "      <td>5.0</td>\n",
       "      <td>29.85</td>\n",
       "      <td>0</td>\n",
       "    </tr>\n",
       "    <tr>\n",
       "      <th>2</th>\n",
       "      <td>245</td>\n",
       "      <td>2008</td>\n",
       "      <td>9</td>\n",
       "      <td>1</td>\n",
       "      <td>7</td>\n",
       "      <td>True</td>\n",
       "      <td>0.397172</td>\n",
       "      <td>69</td>\n",
       "      <td>28</td>\n",
       "      <td>7.5</td>\n",
       "      <td>0</td>\n",
       "      <td>10.0</td>\n",
       "      <td>70</td>\n",
       "      <td>0.0</td>\n",
       "      <td>29.89</td>\n",
       "      <td>5418</td>\n",
       "    </tr>\n",
       "    <tr>\n",
       "      <th>3</th>\n",
       "      <td>245</td>\n",
       "      <td>2008</td>\n",
       "      <td>9</td>\n",
       "      <td>1</td>\n",
       "      <td>10</td>\n",
       "      <td>True</td>\n",
       "      <td>0.165810</td>\n",
       "      <td>69</td>\n",
       "      <td>28</td>\n",
       "      <td>7.5</td>\n",
       "      <td>0</td>\n",
       "      <td>10.0</td>\n",
       "      <td>33</td>\n",
       "      <td>0.0</td>\n",
       "      <td>29.91</td>\n",
       "      <td>25477</td>\n",
       "    </tr>\n",
       "    <tr>\n",
       "      <th>4</th>\n",
       "      <td>245</td>\n",
       "      <td>2008</td>\n",
       "      <td>9</td>\n",
       "      <td>1</td>\n",
       "      <td>13</td>\n",
       "      <td>True</td>\n",
       "      <td>0.065553</td>\n",
       "      <td>69</td>\n",
       "      <td>28</td>\n",
       "      <td>7.5</td>\n",
       "      <td>0</td>\n",
       "      <td>10.0</td>\n",
       "      <td>21</td>\n",
       "      <td>3.0</td>\n",
       "      <td>29.89</td>\n",
       "      <td>30069</td>\n",
       "    </tr>\n",
       "    <tr>\n",
       "      <th>5</th>\n",
       "      <td>245</td>\n",
       "      <td>2008</td>\n",
       "      <td>9</td>\n",
       "      <td>1</td>\n",
       "      <td>16</td>\n",
       "      <td>True</td>\n",
       "      <td>0.296915</td>\n",
       "      <td>69</td>\n",
       "      <td>28</td>\n",
       "      <td>7.5</td>\n",
       "      <td>0</td>\n",
       "      <td>10.0</td>\n",
       "      <td>20</td>\n",
       "      <td>23.0</td>\n",
       "      <td>29.85</td>\n",
       "      <td>16280</td>\n",
       "    </tr>\n",
       "    <tr>\n",
       "      <th>6</th>\n",
       "      <td>245</td>\n",
       "      <td>2008</td>\n",
       "      <td>9</td>\n",
       "      <td>1</td>\n",
       "      <td>19</td>\n",
       "      <td>True</td>\n",
       "      <td>0.528278</td>\n",
       "      <td>69</td>\n",
       "      <td>28</td>\n",
       "      <td>7.5</td>\n",
       "      <td>0</td>\n",
       "      <td>10.0</td>\n",
       "      <td>36</td>\n",
       "      <td>15.0</td>\n",
       "      <td>29.83</td>\n",
       "      <td>515</td>\n",
       "    </tr>\n",
       "    <tr>\n",
       "      <th>7</th>\n",
       "      <td>245</td>\n",
       "      <td>2008</td>\n",
       "      <td>9</td>\n",
       "      <td>1</td>\n",
       "      <td>22</td>\n",
       "      <td>False</td>\n",
       "      <td>0.759640</td>\n",
       "      <td>69</td>\n",
       "      <td>28</td>\n",
       "      <td>7.5</td>\n",
       "      <td>0</td>\n",
       "      <td>10.0</td>\n",
       "      <td>49</td>\n",
       "      <td>6.0</td>\n",
       "      <td>29.86</td>\n",
       "      <td>0</td>\n",
       "    </tr>\n",
       "    <tr>\n",
       "      <th>8</th>\n",
       "      <td>246</td>\n",
       "      <td>2008</td>\n",
       "      <td>9</td>\n",
       "      <td>2</td>\n",
       "      <td>1</td>\n",
       "      <td>False</td>\n",
       "      <td>0.862113</td>\n",
       "      <td>72</td>\n",
       "      <td>29</td>\n",
       "      <td>6.8</td>\n",
       "      <td>0</td>\n",
       "      <td>10.0</td>\n",
       "      <td>67</td>\n",
       "      <td>6.0</td>\n",
       "      <td>29.86</td>\n",
       "      <td>0</td>\n",
       "    </tr>\n",
       "    <tr>\n",
       "      <th>9</th>\n",
       "      <td>246</td>\n",
       "      <td>2008</td>\n",
       "      <td>9</td>\n",
       "      <td>2</td>\n",
       "      <td>4</td>\n",
       "      <td>False</td>\n",
       "      <td>0.630155</td>\n",
       "      <td>72</td>\n",
       "      <td>29</td>\n",
       "      <td>6.8</td>\n",
       "      <td>0</td>\n",
       "      <td>10.0</td>\n",
       "      <td>49</td>\n",
       "      <td>0.0</td>\n",
       "      <td>29.87</td>\n",
       "      <td>0</td>\n",
       "    </tr>\n",
       "  </tbody>\n",
       "</table>\n",
       "</div>"
      ],
      "text/plain": [
       "   Day of Year  Year  Month  Day  First Hour of Period  Is Daylight  \\\n",
       "0          245  2008      9    1                     1        False   \n",
       "1          245  2008      9    1                     4        False   \n",
       "2          245  2008      9    1                     7         True   \n",
       "3          245  2008      9    1                    10         True   \n",
       "4          245  2008      9    1                    13         True   \n",
       "5          245  2008      9    1                    16         True   \n",
       "6          245  2008      9    1                    19         True   \n",
       "7          245  2008      9    1                    22        False   \n",
       "8          246  2008      9    2                     1        False   \n",
       "9          246  2008      9    2                     4        False   \n",
       "\n",
       "   Distance to Solar Noon  Average Temperature (Day)  \\\n",
       "0                0.859897                         69   \n",
       "1                0.628535                         69   \n",
       "2                0.397172                         69   \n",
       "3                0.165810                         69   \n",
       "4                0.065553                         69   \n",
       "5                0.296915                         69   \n",
       "6                0.528278                         69   \n",
       "7                0.759640                         69   \n",
       "8                0.862113                         72   \n",
       "9                0.630155                         72   \n",
       "\n",
       "   Average Wind Direction (Day)  Average Wind Speed (Day)  Sky Cover  \\\n",
       "0                            28                       7.5          0   \n",
       "1                            28                       7.5          0   \n",
       "2                            28                       7.5          0   \n",
       "3                            28                       7.5          0   \n",
       "4                            28                       7.5          0   \n",
       "5                            28                       7.5          0   \n",
       "6                            28                       7.5          0   \n",
       "7                            28                       7.5          0   \n",
       "8                            29                       6.8          0   \n",
       "9                            29                       6.8          0   \n",
       "\n",
       "   Visibility  Relative Humidity  Average Wind Speed (Period)  \\\n",
       "0        10.0                 75                          8.0   \n",
       "1        10.0                 77                          5.0   \n",
       "2        10.0                 70                          0.0   \n",
       "3        10.0                 33                          0.0   \n",
       "4        10.0                 21                          3.0   \n",
       "5        10.0                 20                         23.0   \n",
       "6        10.0                 36                         15.0   \n",
       "7        10.0                 49                          6.0   \n",
       "8        10.0                 67                          6.0   \n",
       "9        10.0                 49                          0.0   \n",
       "\n",
       "   Average Barometric Pressure (Period)  Power Generated  \n",
       "0                                 29.82                0  \n",
       "1                                 29.85                0  \n",
       "2                                 29.89             5418  \n",
       "3                                 29.91            25477  \n",
       "4                                 29.89            30069  \n",
       "5                                 29.85            16280  \n",
       "6                                 29.83              515  \n",
       "7                                 29.86                0  \n",
       "8                                 29.86                0  \n",
       "9                                 29.87                0  "
      ]
     },
     "execution_count": 11,
     "metadata": {},
     "output_type": "execute_result"
    }
   ],
   "source": [
    "#imported the csv file\n",
    "\n",
    "df=pd.read_csv(\"data/powerPlantDataBerkeley.csv\")\n",
    "df.head(10)"
   ]
  },
  {
   "cell_type": "code",
   "execution_count": 8,
   "id": "209b0f1d",
   "metadata": {},
   "outputs": [
    {
     "name": "stdout",
     "output_type": "stream",
     "text": [
      "<class 'pandas.core.frame.DataFrame'>\n",
      "RangeIndex: 2920 entries, 0 to 2919\n",
      "Data columns (total 16 columns):\n",
      " #   Column                                Non-Null Count  Dtype  \n",
      "---  ------                                --------------  -----  \n",
      " 0   Day of Year                           2920 non-null   int64  \n",
      " 1   Year                                  2920 non-null   int64  \n",
      " 2   Month                                 2920 non-null   int64  \n",
      " 3   Day                                   2920 non-null   int64  \n",
      " 4   First Hour of Period                  2920 non-null   int64  \n",
      " 5   Is Daylight                           2920 non-null   bool   \n",
      " 6   Distance to Solar Noon                2920 non-null   float64\n",
      " 7   Average Temperature (Day)             2920 non-null   int64  \n",
      " 8   Average Wind Direction (Day)          2920 non-null   int64  \n",
      " 9   Average Wind Speed (Day)              2920 non-null   float64\n",
      " 10  Sky Cover                             2920 non-null   int64  \n",
      " 11  Visibility                            2920 non-null   float64\n",
      " 12  Relative Humidity                     2920 non-null   int64  \n",
      " 13  Average Wind Speed (Period)           2919 non-null   float64\n",
      " 14  Average Barometric Pressure (Period)  2920 non-null   float64\n",
      " 15  Power Generated                       2920 non-null   int64  \n",
      "dtypes: bool(1), float64(5), int64(10)\n",
      "memory usage: 345.2 KB\n"
     ]
    }
   ],
   "source": [
    "df.info()"
   ]
  },
  {
   "cell_type": "markdown",
   "id": "f45b9f74",
   "metadata": {},
   "source": [
    "* As clearly visible the dataset is a time series dataset but I didn't sort it because it was already sorted. \n",
    "* Secondly there are no columns with object type values hence there was no need of converting any column to pandas category and assigning the codes back to column to convert object type column to numeric type"
   ]
  },
  {
   "cell_type": "code",
   "execution_count": 12,
   "id": "579472ce",
   "metadata": {},
   "outputs": [],
   "source": [
    "X=df.drop(\"Power Generated\",axis=1)\n",
    "y=df[\"Power Generated\"]\n"
   ]
  },
  {
   "cell_type": "code",
   "execution_count": 13,
   "id": "ecde1ea7",
   "metadata": {},
   "outputs": [],
   "source": [
    "'''Splitting data into train and test split of 8:2'''\n",
    "train_size=round(0.7*len(df))\n",
    "val_size=round(train_size+0.15*len(df))\n",
    "\n",
    "'''\n",
    "Splitting with train_test_split function won't work here as it shuffles the data before splitting but we avoid that in \n",
    "time series dataset\n",
    "'''\n",
    "X_train,y_train=X[:train_size],y[:train_size]\n",
    "X_val,y_val=X[train_size:val_size],y[train_size:val_size]\n",
    "X_test,y_test=X[val_size:],y[val_size:]\n",
    "\n"
   ]
  },
  {
   "cell_type": "code",
   "execution_count": 14,
   "id": "2e64a5c3",
   "metadata": {},
   "outputs": [
    {
     "data": {
      "text/plain": [
       "((2044, 15), (2044,), (438, 15), (438,), (438, 15), (438,))"
      ]
     },
     "execution_count": 14,
     "metadata": {},
     "output_type": "execute_result"
    }
   ],
   "source": [
    "'''just checking if splitting is done correctly'''\n",
    "\n",
    "X_train.shape,y_train.shape,X_val.shape,y_val.shape,X_test.shape,y_test.shape"
   ]
  },
  {
   "cell_type": "markdown",
   "id": "461c75f8",
   "metadata": {},
   "source": [
    "## Filling missing data in train,test and validation set"
   ]
  },
  {
   "cell_type": "markdown",
   "id": "ca479d9c",
   "metadata": {},
   "source": [
    "### Train set"
   ]
  },
  {
   "cell_type": "code",
   "execution_count": 15,
   "id": "c36ffc42",
   "metadata": {},
   "outputs": [
    {
     "data": {
      "text/plain": [
       "Day of Year                             0\n",
       "Year                                    0\n",
       "Month                                   0\n",
       "Day                                     0\n",
       "First Hour of Period                    0\n",
       "Is Daylight                             0\n",
       "Distance to Solar Noon                  0\n",
       "Average Temperature (Day)               0\n",
       "Average Wind Direction (Day)            0\n",
       "Average Wind Speed (Day)                0\n",
       "Sky Cover                               0\n",
       "Visibility                              0\n",
       "Relative Humidity                       0\n",
       "Average Wind Speed (Period)             1\n",
       "Average Barometric Pressure (Period)    0\n",
       "dtype: int64"
      ]
     },
     "execution_count": 15,
     "metadata": {},
     "output_type": "execute_result"
    }
   ],
   "source": [
    "\n",
    "X_train.isna().sum()"
   ]
  },
  {
   "cell_type": "code",
   "execution_count": 17,
   "id": "aba8ca4c",
   "metadata": {},
   "outputs": [
    {
     "data": {
      "text/plain": [
       "Day of Year                             0\n",
       "Year                                    0\n",
       "Month                                   0\n",
       "Day                                     0\n",
       "First Hour of Period                    0\n",
       "Is Daylight                             0\n",
       "Distance to Solar Noon                  0\n",
       "Average Temperature (Day)               0\n",
       "Average Wind Direction (Day)            0\n",
       "Average Wind Speed (Day)                0\n",
       "Sky Cover                               0\n",
       "Visibility                              0\n",
       "Relative Humidity                       0\n",
       "Average Wind Speed (Period)             0\n",
       "Average Barometric Pressure (Period)    0\n",
       "dtype: int64"
      ]
     },
     "execution_count": 17,
     "metadata": {},
     "output_type": "execute_result"
    }
   ],
   "source": [
    "'''Filling average wind column's missing value with mean of the column'''\n",
    "\n",
    "X_train[\"Average Wind Speed (Period)\"].fillna(X_train[\"Average Wind Speed (Period)\"].mean(),inplace=True)\n",
    "X_train.isna().sum()"
   ]
  },
  {
   "cell_type": "code",
   "execution_count": 18,
   "id": "95d4fffd",
   "metadata": {},
   "outputs": [
    {
     "data": {
      "text/plain": [
       "0"
      ]
     },
     "execution_count": 18,
     "metadata": {},
     "output_type": "execute_result"
    }
   ],
   "source": [
    "y_train.isna().sum()"
   ]
  },
  {
   "cell_type": "markdown",
   "id": "a8ab0c6d",
   "metadata": {},
   "source": [
    "### Validation set"
   ]
  },
  {
   "cell_type": "code",
   "execution_count": 19,
   "id": "b62e4635",
   "metadata": {},
   "outputs": [
    {
     "data": {
      "text/plain": [
       "Day of Year                             0\n",
       "Year                                    0\n",
       "Month                                   0\n",
       "Day                                     0\n",
       "First Hour of Period                    0\n",
       "Is Daylight                             0\n",
       "Distance to Solar Noon                  0\n",
       "Average Temperature (Day)               0\n",
       "Average Wind Direction (Day)            0\n",
       "Average Wind Speed (Day)                0\n",
       "Sky Cover                               0\n",
       "Visibility                              0\n",
       "Relative Humidity                       0\n",
       "Average Wind Speed (Period)             0\n",
       "Average Barometric Pressure (Period)    0\n",
       "dtype: int64"
      ]
     },
     "execution_count": 19,
     "metadata": {},
     "output_type": "execute_result"
    }
   ],
   "source": [
    "X_val.isna().sum()"
   ]
  },
  {
   "cell_type": "code",
   "execution_count": 20,
   "id": "f0ada3ac",
   "metadata": {},
   "outputs": [
    {
     "data": {
      "text/plain": [
       "0"
      ]
     },
     "execution_count": 20,
     "metadata": {},
     "output_type": "execute_result"
    }
   ],
   "source": [
    "y_val.isna().sum()"
   ]
  },
  {
   "cell_type": "markdown",
   "id": "391e6f28",
   "metadata": {},
   "source": [
    "### Test Set"
   ]
  },
  {
   "cell_type": "code",
   "execution_count": 21,
   "id": "396877a0",
   "metadata": {},
   "outputs": [
    {
     "data": {
      "text/plain": [
       "Day of Year                             0\n",
       "Year                                    0\n",
       "Month                                   0\n",
       "Day                                     0\n",
       "First Hour of Period                    0\n",
       "Is Daylight                             0\n",
       "Distance to Solar Noon                  0\n",
       "Average Temperature (Day)               0\n",
       "Average Wind Direction (Day)            0\n",
       "Average Wind Speed (Day)                0\n",
       "Sky Cover                               0\n",
       "Visibility                              0\n",
       "Relative Humidity                       0\n",
       "Average Wind Speed (Period)             0\n",
       "Average Barometric Pressure (Period)    0\n",
       "dtype: int64"
      ]
     },
     "execution_count": 21,
     "metadata": {},
     "output_type": "execute_result"
    }
   ],
   "source": [
    "X_test.isna().sum()"
   ]
  },
  {
   "cell_type": "code",
   "execution_count": 22,
   "id": "f667afc6",
   "metadata": {},
   "outputs": [
    {
     "data": {
      "text/plain": [
       "0"
      ]
     },
     "execution_count": 22,
     "metadata": {},
     "output_type": "execute_result"
    }
   ],
   "source": [
    "y_test.isna().sum()"
   ]
  },
  {
   "cell_type": "markdown",
   "id": "2cc98c8c",
   "metadata": {},
   "source": [
    "# Step 2. Modelling & Evaluation"
   ]
  },
  {
   "cell_type": "code",
   "execution_count": 33,
   "id": "3f8f0300",
   "metadata": {},
   "outputs": [],
   "source": [
    "'''Custom evaluation function'''\n",
    "\n",
    "from sklearn.metrics import mean_absolute_error, mean_squared_error, r2_score\n",
    "\n",
    "def model_score(y_true, y_pred):\n",
    "    mae = mean_absolute_error(y_true, y_pred)  # Mean Absolute Error\n",
    "    mse = mean_squared_error(y_true, y_pred)  # Mean Squared Error\n",
    "    rmse = np.sqrt(mse)  # Root Mean Squared Error\n",
    "    r2 = r2_score(y_true, y_pred)  # R-squared (Coefficient of Determination)\n",
    "    \n",
    "    print(\"Mean Absolute Error (MAE):\", mae)\n",
    "    print(\"Mean Squared Error (MSE):\", mse)\n",
    "    print(\"Root Mean Squared Error (RMSE):\", rmse)\n",
    "    print(\"R-squared (R2):\", r2)"
   ]
  },
  {
   "cell_type": "code",
   "execution_count": 35,
   "id": "58b724ac",
   "metadata": {
    "scrolled": true
   },
   "outputs": [
    {
     "name": "stdout",
     "output_type": "stream",
     "text": [
      "Mean Absolute Error (MAE): 5360.079473889949\n",
      "Mean Squared Error (MSE): 47638662.990993224\n",
      "Root Mean Squared Error (RMSE): 6902.076715814829\n",
      "R-squared (R2): 0.6725339752370296\n"
     ]
    }
   ],
   "source": [
    "'''Applying Linear Regression model to dataset'''\n",
    "from sklearn.linear_model import LinearRegression\n",
    "\n",
    "model = LinearRegression()\n",
    "model.fit(X_train, y_train)\n",
    "\n",
    "y_pred_lr=model.predict(X_val)\n",
    "model_score(y_val,y_pred_lr)"
   ]
  },
  {
   "cell_type": "code",
   "execution_count": 36,
   "id": "636dc602",
   "metadata": {},
   "outputs": [
    {
     "name": "stdout",
     "output_type": "stream",
     "text": [
      "Mean Absolute Error (MAE): 2378.5115753424657\n",
      "Mean Squared Error (MSE): 17880027.144984704\n",
      "Root Mean Squared Error (RMSE): 4228.4781121562755\n",
      "R-squared (R2): 0.87709349834337\n"
     ]
    }
   ],
   "source": [
    "'''Applying RandomForestRegressor to dataset'''\n",
    "from sklearn.ensemble import RandomForestRegressor\n",
    "\n",
    "model2 = RandomForestRegressor(n_estimators=100, random_state=42,n_jobs=-1)\n",
    "model2.fit(X_train, y_train)\n",
    "y_pred_rf=model2.predict(X_val)\n",
    "model_score(y_val,y_pred_rf)\n"
   ]
  },
  {
   "cell_type": "markdown",
   "id": "3d705772",
   "metadata": {},
   "source": [
    "# Hyper Parameter Tuning of RandomForestRegressor"
   ]
  },
  {
   "cell_type": "markdown",
   "id": "1c4327c9",
   "metadata": {},
   "source": [
    "### We will use Randomized Search CV to find best values of hyperparameters\n",
    "\n",
    "#### Adjusting the following hyper parameters\n",
    "* max_depth\n",
    "* min_samples_leaf\n",
    "* min_samples_split\n",
    "* n_estimators "
   ]
  },
  {
   "cell_type": "code",
   "execution_count": 45,
   "id": "21385726",
   "metadata": {},
   "outputs": [
    {
     "data": {
      "text/plain": [
       "RandomizedSearchCV(cv=5, estimator=RandomForestRegressor(n_jobs=-1), n_iter=20,\n",
       "                   param_distributions={'max_depth': [None, 5, 10, 20, 30],\n",
       "                                        'min_samples_leaf': [1, 2, 4],\n",
       "                                        'min_samples_split': [2, 4, 6],\n",
       "                                        'n_estimators': [10, 100, 200, 500,\n",
       "                                                         1000, 1200]})"
      ]
     },
     "execution_count": 45,
     "metadata": {},
     "output_type": "execute_result"
    }
   ],
   "source": [
    "from sklearn.model_selection import RandomizedSearchCV\n",
    "from sklearn.ensemble import RandomForestRegressor\n",
    "\n",
    "grid = {\n",
    "    \"n_estimators\": [10, 100, 200, 500, 1000, 1200],\n",
    "    \"max_depth\": [None, 5, 10, 20, 30],\n",
    "    \"min_samples_split\": [2, 4, 6],\n",
    "    \"min_samples_leaf\": [1, 2, 4]\n",
    "}\n",
    "\n",
    "rf = RandomForestRegressor(n_jobs=-1)\n",
    "rs = RandomizedSearchCV(estimator=rf, param_distributions=grid, n_iter=20, cv=5)\n",
    "\n",
    "rs.fit(X_train,y_train)"
   ]
  },
  {
   "cell_type": "code",
   "execution_count": 48,
   "id": "6534652b",
   "metadata": {},
   "outputs": [
    {
     "data": {
      "text/plain": [
       "{'n_estimators': 1200,\n",
       " 'min_samples_split': 2,\n",
       " 'min_samples_leaf': 2,\n",
       " 'max_depth': 30}"
      ]
     },
     "execution_count": 48,
     "metadata": {},
     "output_type": "execute_result"
    }
   ],
   "source": [
    "rs.best_params_\n"
   ]
  },
  {
   "cell_type": "code",
   "execution_count": 49,
   "id": "ffae3227",
   "metadata": {},
   "outputs": [],
   "source": [
    "rs_y_pred=rs.predict(X_val)"
   ]
  },
  {
   "cell_type": "code",
   "execution_count": 50,
   "id": "53b3134c",
   "metadata": {},
   "outputs": [
    {
     "name": "stdout",
     "output_type": "stream",
     "text": [
      "Mean Absolute Error (MAE): 2323.804721939806\n",
      "Mean Squared Error (MSE): 17260496.339423098\n",
      "Root Mean Squared Error (RMSE): 4154.575350071665\n",
      "R-squared (R2): 0.8813521252102453\n"
     ]
    }
   ],
   "source": [
    "model_score(y_val,rs_y_pred)"
   ]
  }
 ],
 "metadata": {
  "kernelspec": {
   "display_name": "Python 3 (ipykernel)",
   "language": "python",
   "name": "python3"
  },
  "language_info": {
   "codemirror_mode": {
    "name": "ipython",
    "version": 3
   },
   "file_extension": ".py",
   "mimetype": "text/x-python",
   "name": "python",
   "nbconvert_exporter": "python",
   "pygments_lexer": "ipython3",
   "version": "3.7.16"
  }
 },
 "nbformat": 4,
 "nbformat_minor": 5
}
